{
 "cells": [
  {
   "cell_type": "code",
   "execution_count": 38,
   "id": "65b3ce51-3435-4ee3-b0b8-56dada47701b",
   "metadata": {},
   "outputs": [],
   "source": [
    "# TIC TAC GAME MILDSTNE PROJECT\n",
    "from IPython.display import clear_output\n",
    "def display_board(board):\n",
    "    clear_output()\n",
    "    print(board[7]+'|'+board[8]+'|'+board[9])\n",
    "    print(board[4]+'|'+board[5]+'|'+board[6])\n",
    "    print(board[1]+'|'+board[2]+'|'+board[3])\n",
    "\n",
    "\n",
    "    "
   ]
  },
  {
   "cell_type": "code",
   "execution_count": 42,
   "id": "55e18d9c-49db-41e9-92ff-3546e61ed92a",
   "metadata": {},
   "outputs": [
    {
     "name": "stdout",
     "output_type": "stream",
     "text": [
      "X|O|X\n",
      "X|O|X\n",
      "X|O|X\n"
     ]
    }
   ],
   "source": [
    "test=['#','X','O','X','X','O','X','X','O','X']\n",
    "display_board(test)"
   ]
  },
  {
   "cell_type": "code",
   "execution_count": 66,
   "id": "d0ce5723-c883-432d-a678-9e2ddbf1c928",
   "metadata": {},
   "outputs": [],
   "source": [
    "def player_input():\n",
    "    marker=''\n",
    "    while marker !='X' and marker !='O':\n",
    "        marker=input(\"choose X OR O\").upper()\n",
    "\n",
    "    if marker=='X':\n",
    "        return('X','O')\n",
    "    else:\n",
    "        return('O','X')\n",
    "        "
   ]
  },
  {
   "cell_type": "code",
   "execution_count": 46,
   "id": "a4b54c24-8519-494a-88dd-22e04dffd0a0",
   "metadata": {},
   "outputs": [],
   "source": [
    "def place_marker(board,marker ,position):\n",
    "    board[position]=marker"
   ]
  },
  {
   "cell_type": "code",
   "execution_count": 48,
   "id": "ccefb18f-98ee-4d6d-a0d1-cafeb045b28e",
   "metadata": {},
   "outputs": [],
   "source": [
    "def win_check(board,mark):\n",
    "    #diagnal,row , column check\n",
    "    return ((board[1]==mark and board[2]==mark and board[3]== mark)\n",
    "           or (board[4]==mark and board[5]==mark and board[6]== mark)\n",
    "           or (board[7]==mark and board[8]==mark and board[9]== mark)\n",
    "           or (board[7]==mark and board[4]==mark and board[1]== mark)\n",
    "           or (board[8]==mark and board[5]==mark and board[2]== mark)\n",
    "           or (board[9]==mark and board[6]==mark and board[3]== mark)\n",
    "           or (board[9]==mark and board[5]==mark and board[1]== mark)\n",
    "           or (board[7]==mark and board[5]==mark and board[3]== mark))"
   ]
  },
  {
   "cell_type": "code",
   "execution_count": 50,
   "id": "30e4493c-6405-4d2d-a138-bd69aa47fcac",
   "metadata": {},
   "outputs": [
    {
     "data": {
      "text/plain": [
       "True"
      ]
     },
     "execution_count": 50,
     "metadata": {},
     "output_type": "execute_result"
    }
   ],
   "source": [
    "\n",
    "win_check(test,'X')\n"
   ]
  },
  {
   "cell_type": "code",
   "execution_count": 52,
   "id": "8b676f0c-d447-486c-a0ce-53f7ceb003a6",
   "metadata": {},
   "outputs": [],
   "source": [
    "import random\n",
    "def choose_first():\n",
    "    flip=random.randint(0,1)\n",
    "    if flip == 0 :\n",
    "        return 'Player 1'\n",
    "    else:\n",
    "        return 'Player 2'"
   ]
  },
  {
   "cell_type": "code",
   "execution_count": 54,
   "id": "ed546288-8e06-4a05-bdf9-e1f122b69e9c",
   "metadata": {},
   "outputs": [],
   "source": [
    "def space_check(board,position):\n",
    "    return board[position]==' '\n",
    "    "
   ]
  },
  {
   "cell_type": "code",
   "execution_count": 56,
   "id": "6599018c-d89a-48f8-9bcc-d62b34c42124",
   "metadata": {},
   "outputs": [],
   "source": [
    "def full_board_check(board):\n",
    "    for i in range(1,10):\n",
    "        if space_check(board,i):\n",
    "            return False\n",
    "    return True"
   ]
  },
  {
   "cell_type": "code",
   "execution_count": 72,
   "id": "a8c8dd12-e3c1-455c-83b0-27769031133a",
   "metadata": {},
   "outputs": [],
   "source": [
    "def player_choice(board):\n",
    "    position=0\n",
    "    while position not in [1,2,3,4,5,6,7,8,9] or not space_check(board,position):\n",
    "        position= int(input('choose (0-9)'))\n",
    "    return position"
   ]
  },
  {
   "cell_type": "code",
   "execution_count": 60,
   "id": "6078b805-d703-4225-af3e-3a564f0f23ae",
   "metadata": {},
   "outputs": [],
   "source": [
    "def replay():\n",
    "    choice= input(\"play again?\")\n",
    "    return  choice == \"Yes\""
   ]
  },
  {
   "cell_type": "code",
   "execution_count": null,
   "id": "8ae7f7e2-cb64-40b0-a270-37f8fb5dfe11",
   "metadata": {},
   "outputs": [
    {
     "name": "stdout",
     "output_type": "stream",
     "text": [
      "Welcome to Tic Tac Toe!\n"
     ]
    }
   ],
   "source": [
    "print('Welcome to Tic Tac Toe!')\n",
    "\n",
    "while True:\n",
    "    # Reset the board\n",
    "    theBoard = [' '] * 10\n",
    "    player1_marker, player2_marker = player_input()\n",
    "    turn = choose_first()\n",
    "    print(turn + ' will go first.')\n",
    "    \n",
    "    play_game = input('Are you ready to play? Enter Yes or No.')\n",
    "    \n",
    "    if play_game.lower()[0] == 'y':\n",
    "        game_on = True\n",
    "    else:\n",
    "        game_on = False\n",
    "\n",
    "    while game_on:\n",
    "        if turn == 'Player 1':\n",
    "            # Player1's turn.\n",
    "            \n",
    "            display_board(theBoard)\n",
    "            position = player_choice(theBoard)\n",
    "            place_marker(theBoard, player1_marker, position)\n",
    "\n",
    "            if win_check(theBoard, player1_marker):\n",
    "                display_board(theBoard)\n",
    "                print('Congratulations! You have won the game!')\n",
    "                game_on = False\n",
    "            else:\n",
    "                if full_board_check(theBoard):\n",
    "                    display_board(theBoard)\n",
    "                    print('The game is a draw!')\n",
    "                    break\n",
    "                else:\n",
    "                    turn = 'Player 2'\n",
    "\n",
    "        else:\n",
    "            # Player2's turn.\n",
    "            \n",
    "            display_board(theBoard)\n",
    "            position = player_choice(theBoard)\n",
    "            place_marker(theBoard, player2_marker, position)\n",
    "\n",
    "            if win_check(theBoard, player2_marker):\n",
    "                display_board(theBoard)\n",
    "                print('Player 2 has won!')\n",
    "                game_on = False\n",
    "            else:\n",
    "                if full_board_check(theBoard):\n",
    "                    display_board(theBoard)\n",
    "                    print('The game is a draw!')\n",
    "                    break\n",
    "                else:\n",
    "                    turn = 'Player 1'\n",
    "\n",
    "    if not replay():\n",
    "        break"
   ]
  },
  {
   "cell_type": "code",
   "execution_count": null,
   "id": "1b2a0caa-f609-4c66-b805-89b877019b5b",
   "metadata": {},
   "outputs": [],
   "source": []
  }
 ],
 "metadata": {
  "kernelspec": {
   "display_name": "Python 3 (ipykernel)",
   "language": "python",
   "name": "python3"
  },
  "language_info": {
   "codemirror_mode": {
    "name": "ipython",
    "version": 3
   },
   "file_extension": ".py",
   "mimetype": "text/x-python",
   "name": "python",
   "nbconvert_exporter": "python",
   "pygments_lexer": "ipython3",
   "version": "3.11.7"
  }
 },
 "nbformat": 4,
 "nbformat_minor": 5
}
